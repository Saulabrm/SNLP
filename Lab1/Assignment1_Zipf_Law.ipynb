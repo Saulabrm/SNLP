{
 "cells": [
  {
   "cell_type": "code",
   "execution_count": 158,
   "metadata": {
    "collapsed": false
   },
   "outputs": [
    {
     "name": "stdout",
     "output_type": "stream",
     "text": [
      "Once deleted, variables cannot be recovered. Proceed (y/[n])? y\n"
     ]
    }
   ],
   "source": [
    "%reset\n",
    "import nltk\n",
    "import pandas as pd"
   ]
  },
  {
   "cell_type": "code",
   "execution_count": 159,
   "metadata": {
    "collapsed": false
   },
   "outputs": [],
   "source": [
    "header_row = ['corpus_text']\n",
    "english_corpus = pd.read_table('/Users/krishna/MIRI/SNLP/corpus/en.txt',names=header_row)\n",
    "spanish_corpus = pd.read_table('/Users/krishna/MIRI/SNLP/corpus/es.txt',names=header_row)"
   ]
  },
  {
   "cell_type": "code",
   "execution_count": 160,
   "metadata": {
    "collapsed": false
   },
   "outputs": [],
   "source": [
    "token_en = english_corpus['corpus_text'].apply(lambda x : nltk.word_tokenize(x))\n",
    "token_es = spanish_corpus['corpus_text'].apply(lambda x : nltk.word_tokenize(x))"
   ]
  },
  {
   "cell_type": "code",
   "execution_count": 161,
   "metadata": {
    "collapsed": false
   },
   "outputs": [],
   "source": [
    "flat_en = pd.DataFrame({'word' : [item for sublist in token_en for item in sublist]})\n",
    "flat_es = pd.DataFrame({'word' : [item for sublist in token_es for item in sublist]})"
   ]
  },
  {
   "cell_type": "code",
   "execution_count": 162,
   "metadata": {
    "collapsed": false
   },
   "outputs": [],
   "source": [
    "flat_en['freq'] = 1\n",
    "flat_es['freq'] = 1"
   ]
  },
  {
   "cell_type": "code",
   "execution_count": 163,
   "metadata": {
    "collapsed": false
   },
   "outputs": [],
   "source": [
    "en_df = pd.DataFrame({'count' : flat_en.groupby('word').size()})\n",
    "es_df = pd.DataFrame({'count' : flat_en.groupby('word').size()})"
   ]
  },
  {
   "cell_type": "code",
   "execution_count": 164,
   "metadata": {
    "collapsed": false
   },
   "outputs": [],
   "source": [
    "en_df = en_df.sort_values(['count'], ascending=False).reset_index()\n",
    "es_df = es_df.sort_values(['count'], ascending=False).reset_index()"
   ]
  },
  {
   "cell_type": "code",
   "execution_count": 166,
   "metadata": {
    "collapsed": false
   },
   "outputs": [],
   "source": [
    "en_df['rank'] = en_df.index + 1\n",
    "es_df['rank'] = es_df.index + 1"
   ]
  }
 ],
 "metadata": {
  "kernelspec": {
   "display_name": "Python 3",
   "language": "python",
   "name": "python3"
  },
  "language_info": {
   "codemirror_mode": {
    "name": "ipython",
    "version": 3
   },
   "file_extension": ".py",
   "mimetype": "text/x-python",
   "name": "python",
   "nbconvert_exporter": "python",
   "pygments_lexer": "ipython3",
   "version": "3.5.0"
  }
 },
 "nbformat": 4,
 "nbformat_minor": 0
}
