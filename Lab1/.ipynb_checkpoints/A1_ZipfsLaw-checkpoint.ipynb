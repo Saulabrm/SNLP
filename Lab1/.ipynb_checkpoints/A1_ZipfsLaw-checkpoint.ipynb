{
 "cells": [
  {
   "cell_type": "code",
   "execution_count": 58,
   "metadata": {
    "collapsed": false,
    "scrolled": false
   },
   "outputs": [
    {
     "name": "stdout",
     "output_type": "stream",
     "text": [
      "Once deleted, variables cannot be recovered. Proceed (y/[n])? y\n",
      "/Users/saulgarcia/Dropbox/Maestria/DMKM/Courses/SEM3/SNLP/Exercies/SNLP/Lab1\n"
     ]
    }
   ],
   "source": [
    "%reset\n",
    "import os\n",
    "os.chdir('/Users/saulgarcia/Dropbox/Maestria/DMKM/Courses/SEM3/SNLP/Exercies/SNLP/Lab1')\n",
    "print os.getcwd()"
   ]
  },
  {
   "cell_type": "code",
   "execution_count": 59,
   "metadata": {
    "collapsed": true
   },
   "outputs": [],
   "source": [
    "import nltk\n",
    "from nltk.corpus import state_union\n",
    "from nltk.tokenize import sent_tokenize, word_tokenize\n",
    "from nltk import FreqDist\n",
    "\n",
    "import pandas as pd\n",
    "import numpy as np\n",
    "\n",
    "import string\n",
    "\n",
    "import warnings\n",
    "warnings.filterwarnings('ignore')"
   ]
  },
  {
   "cell_type": "code",
   "execution_count": 60,
   "metadata": {
    "collapsed": false
   },
   "outputs": [],
   "source": [
    "# Read text files\n",
    "en = open(\"data/en.txt\").read()\n",
    "es = open(\"data/es.txt\").read() #.decode('string-escape').decode(\"utf-8\")\n",
    "\n",
    "# Remove punctuation\n",
    "en = en.translate(None, string.punctuation)\n",
    "es = es.translate(None, string.punctuation)\n",
    "\n",
    "# Tokenize the files \n",
    "en_tokens = word_tokenize(en)\n",
    "es_tokens = word_tokenize(es)"
   ]
  },
  {
   "cell_type": "code",
   "execution_count": 61,
   "metadata": {
    "collapsed": false
   },
   "outputs": [],
   "source": [
    "# FreqDist for the Tokens\n",
    "en_freq = FreqDist(en_tokens)\n",
    "es_freq = FreqDist(es_tokens)"
   ]
  },
  {
   "cell_type": "code",
   "execution_count": 62,
   "metadata": {
    "collapsed": false,
    "scrolled": true
   },
   "outputs": [
    {
     "data": {
      "text/html": [
       "<div>\n",
       "<table border=\"1\" class=\"dataframe\">\n",
       "  <thead>\n",
       "    <tr style=\"text-align: right;\">\n",
       "      <th></th>\n",
       "      <th>word</th>\n",
       "      <th>count</th>\n",
       "      <th>rank</th>\n",
       "    </tr>\n",
       "  </thead>\n",
       "  <tbody>\n",
       "    <tr>\n",
       "      <th>15039</th>\n",
       "      <td>the</td>\n",
       "      <td>45989</td>\n",
       "      <td>1</td>\n",
       "    </tr>\n",
       "    <tr>\n",
       "      <th>21557</th>\n",
       "      <td>of</td>\n",
       "      <td>25607</td>\n",
       "      <td>2</td>\n",
       "    </tr>\n",
       "    <tr>\n",
       "      <th>24513</th>\n",
       "      <td>to</td>\n",
       "      <td>24870</td>\n",
       "      <td>3</td>\n",
       "    </tr>\n",
       "    <tr>\n",
       "      <th>39380</th>\n",
       "      <td>a</td>\n",
       "      <td>21347</td>\n",
       "      <td>4</td>\n",
       "    </tr>\n",
       "    <tr>\n",
       "      <th>21236</th>\n",
       "      <td>and</td>\n",
       "      <td>17807</td>\n",
       "      <td>5</td>\n",
       "    </tr>\n",
       "  </tbody>\n",
       "</table>\n",
       "</div>"
      ],
      "text/plain": [
       "      word  count  rank\n",
       "15039  the  45989     1\n",
       "21557   of  25607     2\n",
       "24513   to  24870     3\n",
       "39380    a  21347     4\n",
       "21236  and  17807     5"
      ]
     },
     "execution_count": 62,
     "metadata": {},
     "output_type": "execute_result"
    }
   ],
   "source": [
    "from collections import Counter\n",
    "\n",
    "# Create a Dataframe from Enlgish corpus\n",
    "df_en = pd.DataFrame.from_dict(en_freq, orient='index').reset_index()\n",
    "df_en = df_en.rename(columns={'index':'word', 0:'count'})\n",
    "df_en = df_en.sort(['count'], ascending=[False])\n",
    "df_en['rank'] = df_en['count'].rank(ascending=False).apply(lambda x: int(x))\n",
    "df_en.head()"
   ]
  },
  {
   "cell_type": "code",
   "execution_count": 63,
   "metadata": {
    "collapsed": false
   },
   "outputs": [
    {
     "data": {
      "text/html": [
       "<div>\n",
       "<table border=\"1\" class=\"dataframe\">\n",
       "  <thead>\n",
       "    <tr style=\"text-align: right;\">\n",
       "      <th></th>\n",
       "      <th>word</th>\n",
       "      <th>count</th>\n",
       "      <th>rank</th>\n",
       "    </tr>\n",
       "  </thead>\n",
       "  <tbody>\n",
       "    <tr>\n",
       "      <th>13643</th>\n",
       "      <td>de</td>\n",
       "      <td>32987</td>\n",
       "      <td>1</td>\n",
       "    </tr>\n",
       "    <tr>\n",
       "      <th>18090</th>\n",
       "      <td>la</td>\n",
       "      <td>18570</td>\n",
       "      <td>2</td>\n",
       "    </tr>\n",
       "    <tr>\n",
       "      <th>7519</th>\n",
       "      <td>que</td>\n",
       "      <td>16285</td>\n",
       "      <td>3</td>\n",
       "    </tr>\n",
       "    <tr>\n",
       "      <th>14154</th>\n",
       "      <td>el</td>\n",
       "      <td>14640</td>\n",
       "      <td>4</td>\n",
       "    </tr>\n",
       "    <tr>\n",
       "      <th>14155</th>\n",
       "      <td>en</td>\n",
       "      <td>12996</td>\n",
       "      <td>5</td>\n",
       "    </tr>\n",
       "  </tbody>\n",
       "</table>\n",
       "</div>"
      ],
      "text/plain": [
       "      word  count  rank\n",
       "13643   de  32987     1\n",
       "18090   la  18570     2\n",
       "7519   que  16285     3\n",
       "14154   el  14640     4\n",
       "14155   en  12996     5"
      ]
     },
     "execution_count": 63,
     "metadata": {},
     "output_type": "execute_result"
    }
   ],
   "source": [
    "# Create a Dataframe from Spanish corpus\n",
    "df_es = pd.DataFrame.from_dict(es_freq, orient='index').reset_index()\n",
    "df_es = df_es.rename(columns={'index':'word', 0:'count'})\n",
    "df_es = df_es.sort(['count'], ascending=[False])\n",
    "df_es['rank'] = df_es['count'].rank(ascending=False).apply(lambda x: int(x))\n",
    "df_es.head()"
   ]
  },
  {
   "cell_type": "code",
   "execution_count": 64,
   "metadata": {
    "collapsed": false
   },
   "outputs": [
    {
     "data": {
      "image/png": "[encoded data removed]",
      "text/plain": [
       "<matplotlib.figure.Figure at 0x11aa66a10>"
      ]
     },
     "metadata": {},
     "output_type": "display_data"
    },
    {
     "data": {
      "text/plain": [
       "<matplotlib.figure.Figure at 0x11948f5d0>"
      ]
     },
     "metadata": {},
     "output_type": "display_data"
    }
   ],
   "source": [
    "# Plotting the Frequencies against the Ranks\n",
    "\n",
    "#English Text\n",
    "%matplotlib inline\n",
    "import matplotlib\n",
    "import matplotlib.pyplot as plt\n",
    "\n",
    "fig,ax = plt.subplots(1,2)\n",
    "plt.figure(figsize=(8, 4))\n",
    "\n",
    "ax[0].plot(df_en['rank'], df_en['count'],'.')\n",
    "#plt.title('Center Title')\n",
    "\n",
    "ax[1].loglog(df_en['rank'],df_en['count'],'.')\n",
    "fig.show()\n",
    "\n"
   ]
  },
  {
   "cell_type": "code",
   "execution_count": 65,
   "metadata": {
    "collapsed": false
   },
   "outputs": [
    {
     "data": {
      "image/png": "[encoded data removed]",
      "text/plain": [
       "<matplotlib.figure.Figure at 0x1241e4310>"
      ]
     },
     "metadata": {},
     "output_type": "display_data"
    },
    {
     "data": {
      "text/plain": [
       "<matplotlib.figure.Figure at 0x11948fcd0>"
      ]
     },
     "metadata": {},
     "output_type": "display_data"
    }
   ],
   "source": [
    "#Spanish Text\n",
    "fig,ax = plt.subplots(1,2)\n",
    "plt.figure(figsize=(8, 4))\n",
    "\n",
    "ax[0].plot(df_es['rank'], df_es['count'],'.')\n",
    "#plt.title('Center Title')\n",
    "\n",
    "ax[1].loglog(df_es['rank'],df_es['count'],'.')\n",
    "fig.show()"
   ]
  },
  {
   "cell_type": "code",
   "execution_count": 66,
   "metadata": {
    "collapsed": false
   },
   "outputs": [
    {
     "name": "stdout",
     "output_type": "stream",
     "text": [
      "52795.0824663\n",
      "521402295.049\n",
      "249486.054608\n",
      "4.62135831554e+13\n"
     ]
    },
    {
     "data": {
      "image/png": "[encoded data removed]",
      "text/plain": [
       "<matplotlib.figure.Figure at 0x1184dc190>"
      ]
     },
     "metadata": {},
     "output_type": "display_data"
    },
    {
     "data": {
      "text/plain": [
       "<matplotlib.figure.Figure at 0x12218a450>"
      ]
     },
     "metadata": {},
     "output_type": "display_data"
    }
   ],
   "source": [
    "# Proportionality Constant (K) for Zipfs Law  f=K/r\n",
    "\n",
    "df_en['K'] = df_en['count']*df_en['rank']\n",
    "df_es['K'] = df_es['count']*df_es['rank']\n",
    "\n",
    "#Plot\n",
    "fig,ax = plt.subplots(1,2)\n",
    "plt.figure(figsize=(8, 4))\n",
    "\n",
    "ax[0].boxplot(df_en['K'],'-')\n",
    "#plt.title('Center Title')\n",
    "\n",
    "ax[1].boxplot(df_es['K'],'-')\n",
    "fig.show()\n",
    "\n",
    "#Mean and Variance for the Proportionality Constant K\n",
    "print df_en['K'].mean()\n",
    "print df_en['K'].var()\n",
    "\n",
    "print df_es['K'].mean()\n",
    "print df_es['K'].var()"
   ]
  },
  {
   "cell_type": "markdown",
   "metadata": {},
   "source": [
    "## Repeat the Process, work on the tokenization method:"
   ]
  },
  {
   "cell_type": "code",
   "execution_count": 67,
   "metadata": {
    "collapsed": false
   },
   "outputs": [],
   "source": [
    "# Remove numbers\n",
    "es2 = es.translate(None, '0123456789')\n",
    "en2 = en.translate(None, '0123456789')\n",
    "\n",
    "# Lower case\n",
    "es2 = es2.lower()\n",
    "en2 = en2.lower()"
   ]
  },
  {
   "cell_type": "markdown",
   "metadata": {},
   "source": [
    "Tokenization and plotting"
   ]
  },
  {
   "cell_type": "code",
   "execution_count": 68,
   "metadata": {
    "collapsed": false,
    "scrolled": true
   },
   "outputs": [
    {
     "data": {
      "text/html": [
       "<div>\n",
       "<table border=\"1\" class=\"dataframe\">\n",
       "  <thead>\n",
       "    <tr style=\"text-align: right;\">\n",
       "      <th></th>\n",
       "      <th>word</th>\n",
       "      <th>count</th>\n",
       "      <th>rank</th>\n",
       "    </tr>\n",
       "  </thead>\n",
       "  <tbody>\n",
       "    <tr>\n",
       "      <th>11886</th>\n",
       "      <td>the</td>\n",
       "      <td>53753</td>\n",
       "      <td>1</td>\n",
       "    </tr>\n",
       "    <tr>\n",
       "      <th>17217</th>\n",
       "      <td>of</td>\n",
       "      <td>25691</td>\n",
       "      <td>2</td>\n",
       "    </tr>\n",
       "    <tr>\n",
       "      <th>19549</th>\n",
       "      <td>to</td>\n",
       "      <td>25049</td>\n",
       "      <td>3</td>\n",
       "    </tr>\n",
       "    <tr>\n",
       "      <th>31151</th>\n",
       "      <td>a</td>\n",
       "      <td>22508</td>\n",
       "      <td>4</td>\n",
       "    </tr>\n",
       "    <tr>\n",
       "      <th>14194</th>\n",
       "      <td>in</td>\n",
       "      <td>19033</td>\n",
       "      <td>5</td>\n",
       "    </tr>\n",
       "  </tbody>\n",
       "</table>\n",
       "</div>"
      ],
      "text/plain": [
       "      word  count  rank\n",
       "11886  the  53753     1\n",
       "17217   of  25691     2\n",
       "19549   to  25049     3\n",
       "31151    a  22508     4\n",
       "14194   in  19033     5"
      ]
     },
     "execution_count": 68,
     "metadata": {},
     "output_type": "execute_result"
    }
   ],
   "source": [
    "# Tokenize the files \n",
    "en_tokens = word_tokenize(en2)\n",
    "es_tokens = word_tokenize(es2)\n",
    "\n",
    "# FreqDist for the Tokens\n",
    "en_freq = FreqDist(en_tokens)\n",
    "es_freq = FreqDist(es_tokens)\n",
    "\n",
    "# Create a Dataframe from Enlgish corpus\n",
    "df_en = pd.DataFrame.from_dict(en_freq, orient='index').reset_index()\n",
    "df_en = df_en.rename(columns={'index':'word', 0:'count'})\n",
    "df_en = df_en.sort(['count'], ascending=[False])\n",
    "df_en['rank'] = df_en['count'].rank(ascending=False).apply(lambda x: int(x))\n",
    "df_en.head()"
   ]
  },
  {
   "cell_type": "code",
   "execution_count": 69,
   "metadata": {
    "collapsed": false
   },
   "outputs": [
    {
     "data": {
      "text/html": [
       "<div>\n",
       "<table border=\"1\" class=\"dataframe\">\n",
       "  <thead>\n",
       "    <tr style=\"text-align: right;\">\n",
       "      <th></th>\n",
       "      <th>word</th>\n",
       "      <th>count</th>\n",
       "      <th>rank</th>\n",
       "    </tr>\n",
       "  </thead>\n",
       "  <tbody>\n",
       "    <tr>\n",
       "      <th>12098</th>\n",
       "      <td>de</td>\n",
       "      <td>33252</td>\n",
       "      <td>1</td>\n",
       "    </tr>\n",
       "    <tr>\n",
       "      <th>16136</th>\n",
       "      <td>la</td>\n",
       "      <td>20454</td>\n",
       "      <td>2</td>\n",
       "    </tr>\n",
       "    <tr>\n",
       "      <th>37830</th>\n",
       "      <td>el</td>\n",
       "      <td>17673</td>\n",
       "      <td>3</td>\n",
       "    </tr>\n",
       "    <tr>\n",
       "      <th>6666</th>\n",
       "      <td>que</td>\n",
       "      <td>16327</td>\n",
       "      <td>4</td>\n",
       "    </tr>\n",
       "    <tr>\n",
       "      <th>12588</th>\n",
       "      <td>en</td>\n",
       "      <td>14008</td>\n",
       "      <td>5</td>\n",
       "    </tr>\n",
       "  </tbody>\n",
       "</table>\n",
       "</div>"
      ],
      "text/plain": [
       "      word  count  rank\n",
       "12098   de  33252     1\n",
       "16136   la  20454     2\n",
       "37830   el  17673     3\n",
       "6666   que  16327     4\n",
       "12588   en  14008     5"
      ]
     },
     "execution_count": 69,
     "metadata": {},
     "output_type": "execute_result"
    }
   ],
   "source": [
    "# Create a Dataframe from Spanish corpus\n",
    "df_es = pd.DataFrame.from_dict(es_freq, orient='index').reset_index()\n",
    "df_es = df_es.rename(columns={'index':'word', 0:'count'})\n",
    "df_es = df_es.sort(['count'], ascending=[False])\n",
    "df_es['rank'] = df_es['count'].rank(ascending=False).apply(lambda x: int(x))\n",
    "df_es.head()"
   ]
  },
  {
   "cell_type": "code",
   "execution_count": 70,
   "metadata": {
    "collapsed": false,
    "scrolled": true
   },
   "outputs": [
    {
     "data": {
      "image/png": "[encoded data removed]",
      "text/plain": [
       "<matplotlib.figure.Figure at 0x124559b90>"
      ]
     },
     "metadata": {},
     "output_type": "display_data"
    },
    {
     "data": {
      "text/plain": [
       "<matplotlib.figure.Figure at 0x11a628fd0>"
      ]
     },
     "metadata": {},
     "output_type": "display_data"
    }
   ],
   "source": [
    "# Plotting the Frequencies against the Ranks\n",
    "\n",
    "#English Text\n",
    "fig,ax = plt.subplots(1,2)\n",
    "plt.figure(figsize=(8, 4))\n",
    "\n",
    "ax[0].plot(df_en['rank'], df_en['count'],'.')\n",
    "#plt.title('Center Title')\n",
    "\n",
    "ax[1].loglog(df_en['rank'],df_en['count'],'.')\n",
    "fig.show()\n"
   ]
  },
  {
   "cell_type": "code",
   "execution_count": 71,
   "metadata": {
    "collapsed": false,
    "scrolled": true
   },
   "outputs": [
    {
     "data": {
      "image/png": "[encoded data removed]",
      "text/plain": [
       "<matplotlib.figure.Figure at 0x121e47c90>"
      ]
     },
     "metadata": {},
     "output_type": "display_data"
    },
    {
     "data": {
      "text/plain": [
       "<matplotlib.figure.Figure at 0x119169bd0>"
      ]
     },
     "metadata": {},
     "output_type": "display_data"
    }
   ],
   "source": [
    "#Spanish Text\n",
    "fig,ax = plt.subplots(1,2)\n",
    "plt.figure(figsize=(8, 4))\n",
    "\n",
    "ax[0].plot(df_es['rank'], df_es['count'],'.')\n",
    "#plt.title('Center Title')\n",
    "\n",
    "ax[1].loglog(df_es['rank'],df_es['count'],'.')\n",
    "fig.show()"
   ]
  },
  {
   "cell_type": "code",
   "execution_count": 72,
   "metadata": {
    "collapsed": false
   },
   "outputs": [
    {
     "name": "stdout",
     "output_type": "stream",
     "text": [
      "47224.4758537\n",
      "554211379.099\n",
      "242412.275176\n",
      "4.93269231478e+13\n"
     ]
    },
    {
     "data": {
      "image/png": "[encoded data removed]",
      "text/plain": [
       "<matplotlib.figure.Figure at 0x10d40f9d0>"
      ]
     },
     "metadata": {},
     "output_type": "display_data"
    },
    {
     "data": {
      "text/plain": [
       "<matplotlib.figure.Figure at 0x124dfbfd0>"
      ]
     },
     "metadata": {},
     "output_type": "display_data"
    }
   ],
   "source": [
    "# Proportionality Constant (K) for Zipfs Law  f=K/r\n",
    "\n",
    "df_en['K'] = df_en['count']*df_en['rank']\n",
    "df_es['K'] = df_es['count']*df_en['rank']\n",
    "\n",
    "#Plot\n",
    "fig,ax = plt.subplots(1,2)\n",
    "plt.figure(figsize=(8, 4))\n",
    "\n",
    "ax[0].boxplot(df_en['K'],'-')\n",
    "#plt.title('Center Title')\n",
    "\n",
    "ax[1].boxplot(df_es['K'],'-')\n",
    "fig.show()\n",
    "\n",
    "#Mean and Variance for the Proportionality Constant K\n",
    "print df_en['K'].mean()\n",
    "print df_en['K'].var()\n",
    "\n",
    "print df_es['K'].mean()\n",
    "print df_es['K'].var()"
   ]
  },
  {
   "cell_type": "markdown",
   "metadata": {},
   "source": [
    "## Tokenize by character"
   ]
  },
  {
   "cell_type": "code",
   "execution_count": 73,
   "metadata": {
    "collapsed": false
   },
   "outputs": [],
   "source": [
    "en3 = ''.join(en)\n",
    "es3 = ''.join(es)\n",
    "\n",
    "en_dic = {}\n",
    "for i in en3:\n",
    "    if i not in en_dic:\n",
    "        en_dic[i] = 1\n",
    "    else:\n",
    "        en_dic[i] = en_dic[i] + 1\n",
    "\n",
    "\n",
    "es_dic = {}\n",
    "for i in es3:\n",
    "    if i not in es_dic:\n",
    "        es_dic[i] = 1\n",
    "    else:\n",
    "        es_dic[i] = es_dic[i] + 1"
   ]
  },
  {
   "cell_type": "code",
   "execution_count": 81,
   "metadata": {
    "collapsed": false
   },
   "outputs": [
    {
     "data": {
      "text/html": [
       "<div>\n",
       "<table border=\"1\" class=\"dataframe\">\n",
       "  <thead>\n",
       "    <tr style=\"text-align: right;\">\n",
       "      <th></th>\n",
       "      <th>character</th>\n",
       "      <th>frequency</th>\n",
       "      <th>rank</th>\n",
       "    </tr>\n",
       "  </thead>\n",
       "  <tbody>\n",
       "    <tr>\n",
       "      <th>1</th>\n",
       "      <td></td>\n",
       "      <td>926106</td>\n",
       "      <td>1</td>\n",
       "    </tr>\n",
       "    <tr>\n",
       "      <th>41</th>\n",
       "      <td>e</td>\n",
       "      <td>521085</td>\n",
       "      <td>2</td>\n",
       "    </tr>\n",
       "    <tr>\n",
       "      <th>58</th>\n",
       "      <td>t</td>\n",
       "      <td>376151</td>\n",
       "      <td>3</td>\n",
       "    </tr>\n",
       "    <tr>\n",
       "      <th>38</th>\n",
       "      <td>a</td>\n",
       "      <td>358870</td>\n",
       "      <td>4</td>\n",
       "    </tr>\n",
       "    <tr>\n",
       "      <th>51</th>\n",
       "      <td>o</td>\n",
       "      <td>325166</td>\n",
       "      <td>5</td>\n",
       "    </tr>\n",
       "  </tbody>\n",
       "</table>\n",
       "</div>"
      ],
      "text/plain": [
       "   character  frequency  rank\n",
       "1                926106     1\n",
       "41         e     521085     2\n",
       "58         t     376151     3\n",
       "38         a     358870     4\n",
       "51         o     325166     5"
      ]
     },
     "execution_count": 81,
     "metadata": {},
     "output_type": "execute_result"
    }
   ],
   "source": [
    "# Convert into a dataframe\n",
    "#English\n",
    "df_en = pd.DataFrame.from_dict(en_dic, orient='index').reset_index()\n",
    "df_en = df_en.rename(columns={'index':'character', 0:'frequency'})\n",
    "df_en = df_en.sort(['frequency'], ascending=[False])\n",
    "df_en['rank'] = df_en['frequency'].rank(ascending=False).apply(lambda x: int(x))\n",
    "df_en.head()"
   ]
  },
  {
   "cell_type": "code",
   "execution_count": 80,
   "metadata": {
    "collapsed": false
   },
   "outputs": [
    {
     "data": {
      "text/html": [
       "<div>\n",
       "<table border=\"1\" class=\"dataframe\">\n",
       "  <thead>\n",
       "    <tr style=\"text-align: right;\">\n",
       "      <th></th>\n",
       "      <th>character</th>\n",
       "      <th>frequency</th>\n",
       "      <th>rank</th>\n",
       "    </tr>\n",
       "  </thead>\n",
       "  <tbody>\n",
       "    <tr>\n",
       "      <th>2</th>\n",
       "      <td></td>\n",
       "      <td>482373</td>\n",
       "      <td>1</td>\n",
       "    </tr>\n",
       "    <tr>\n",
       "      <th>88</th>\n",
       "      <td>e</td>\n",
       "      <td>295057</td>\n",
       "      <td>2</td>\n",
       "    </tr>\n",
       "    <tr>\n",
       "      <th>87</th>\n",
       "      <td>a</td>\n",
       "      <td>272738</td>\n",
       "      <td>3</td>\n",
       "    </tr>\n",
       "    <tr>\n",
       "      <th>40</th>\n",
       "      <td>o</td>\n",
       "      <td>190579</td>\n",
       "      <td>4</td>\n",
       "    </tr>\n",
       "    <tr>\n",
       "      <th>41</th>\n",
       "      <td>s</td>\n",
       "      <td>162900</td>\n",
       "      <td>5</td>\n",
       "    </tr>\n",
       "  </tbody>\n",
       "</table>\n",
       "</div>"
      ],
      "text/plain": [
       "   character  frequency  rank\n",
       "2                482373     1\n",
       "88         e     295057     2\n",
       "87         a     272738     3\n",
       "40         o     190579     4\n",
       "41         s     162900     5"
      ]
     },
     "execution_count": 80,
     "metadata": {},
     "output_type": "execute_result"
    }
   ],
   "source": [
    "#Spanish\n",
    "df_es = pd.DataFrame.from_dict(es_dic, orient='index').reset_index()\n",
    "df_es = df_es.rename(columns={'index':'character', 0:'frequency'})\n",
    "df_es = df_es.sort(['frequency'], ascending=[False])\n",
    "df_es['rank'] = df_es['frequency'].rank(ascending=False).apply(lambda x: int(x))\n",
    "df_es.head()"
   ]
  },
  {
   "cell_type": "code",
   "execution_count": 83,
   "metadata": {
    "collapsed": false
   },
   "outputs": [
    {
     "data": {
      "image/png": "[encoded data removed]",
      "text/plain": [
       "<matplotlib.figure.Figure at 0x11f60f050>"
      ]
     },
     "metadata": {},
     "output_type": "display_data"
    },
    {
     "data": {
      "text/plain": [
       "<matplotlib.figure.Figure at 0x121e4dad0>"
      ]
     },
     "metadata": {},
     "output_type": "display_data"
    }
   ],
   "source": [
    "# Plotting the Frequencies against the Ranks\n",
    "\n",
    "#English Text\n",
    "fig,ax = plt.subplots(1,2)\n",
    "plt.figure(figsize=(8, 4))\n",
    "\n",
    "ax[0].plot(df_en['rank'], df_en['frequency'],'.')\n",
    "#plt.title('Center Title')\n",
    "\n",
    "ax[1].loglog(df_en['rank'],df_en['frequency'],'.')\n",
    "fig.show()\n"
   ]
  },
  {
   "cell_type": "code",
   "execution_count": 84,
   "metadata": {
    "collapsed": false
   },
   "outputs": [
    {
     "data": {
      "image/png": "[encoded data removed]",
      "text/plain": [
       "<matplotlib.figure.Figure at 0x11b4a89d0>"
      ]
     },
     "metadata": {},
     "output_type": "display_data"
    },
    {
     "data": {
      "text/plain": [
       "<matplotlib.figure.Figure at 0x11900ae50>"
      ]
     },
     "metadata": {},
     "output_type": "display_data"
    }
   ],
   "source": [
    "#Spanish Text\n",
    "fig,ax = plt.subplots(1,2)\n",
    "plt.figure(figsize=(8, 4))\n",
    "\n",
    "ax[0].plot(df_es['rank'], df_es['frequency'],'.')\n",
    "#plt.title('Center Title')\n",
    "\n",
    "ax[1].loglog(df_es['rank'],df_es['frequency'],'.')\n",
    "fig.show()"
   ]
  },
  {
   "cell_type": "code",
   "execution_count": 86,
   "metadata": {
    "collapsed": false
   },
   "outputs": [
    {
     "name": "stdout",
     "output_type": "stream",
     "text": [
      "741126.359375\n",
      "4.80769929863e+11\n",
      "805507.375\n",
      "4.64532786879e+12\n"
     ]
    },
    {
     "data": {
      "image/png": "[encoded data removed]",
      "text/plain": [
       "<matplotlib.figure.Figure at 0x12052b810>"
      ]
     },
     "metadata": {},
     "output_type": "display_data"
    },
    {
     "data": {
      "text/plain": [
       "<matplotlib.figure.Figure at 0x121410890>"
      ]
     },
     "metadata": {},
     "output_type": "display_data"
    }
   ],
   "source": [
    "# Proportionality Constant (K) for Zipfs Law  f=K/r\n",
    "\n",
    "df_en['K'] = df_en['frequency']*df_en['rank']\n",
    "df_es['K'] = df_es['frequency']*df_en['rank']\n",
    "\n",
    "#Plot\n",
    "fig,ax = plt.subplots(1,2)\n",
    "plt.figure(figsize=(8, 4))\n",
    "\n",
    "ax[0].boxplot(df_en['K'],'-')\n",
    "#plt.title('Center Title')\n",
    "\n",
    "ax[1].boxplot(df_es['K'],'-')\n",
    "fig.show()\n",
    "\n",
    "#Mean and Variance for the Proportionality Constant K\n",
    "print df_en['K'].mean()\n",
    "print df_en['K'].var()\n",
    "\n",
    "print df_es['K'].mean()\n",
    "print df_es['K'].var()"
   ]
  },
  {
   "cell_type": "code",
   "execution_count": null,
   "metadata": {
    "collapsed": true
   },
   "outputs": [],
   "source": []
  }
 ],
 "metadata": {
  "kernelspec": {
   "display_name": "Python 2",
   "language": "python",
   "name": "python2"
  },
  "language_info": {
   "codemirror_mode": {
    "name": "ipython",
    "version": 2
   },
   "file_extension": ".py",
   "mimetype": "text/x-python",
   "name": "python",
   "nbconvert_exporter": "python",
   "pygments_lexer": "ipython2",
   "version": "2.7.9"
  }
 },
 "nbformat": 4,
 "nbformat_minor": 0
}
